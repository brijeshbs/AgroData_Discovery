{
  "nbformat": 4,
  "nbformat_minor": 0,
  "metadata": {
    "colab": {
      "provenance": [],
      "authorship_tag": "ABX9TyNgiI4Za9Y64CB6pe5on003",
      "include_colab_link": true
    },
    "kernelspec": {
      "name": "python3",
      "display_name": "Python 3"
    },
    "language_info": {
      "name": "python"
    }
  },
  "cells": [
    {
      "cell_type": "markdown",
      "metadata": {
        "id": "view-in-github",
        "colab_type": "text"
      },
      "source": [
        "<a href=\"https://colab.research.google.com/github/brijeshbs/AgroData_Discovery/blob/main/SooruAI.ipynb\" target=\"_parent\"><img src=\"https://colab.research.google.com/assets/colab-badge.svg\" alt=\"Open In Colab\"/></a>"
      ]
    },
    {
      "cell_type": "code",
      "execution_count": null,
      "metadata": {
        "id": "P0lNy6Xe4l1B"
      },
      "outputs": [],
      "source": []
    },
    {
      "cell_type": "markdown",
      "source": [
        "New Colab Notebook for Sooru\n"
      ],
      "metadata": {
        "id": "bMzxCWJY46CO"
      }
    },
    {
      "cell_type": "code",
      "source": [
        "!git clone https://github.com/brijeshbs/DS2D.git\n",
        "%cd DS2D"
      ],
      "metadata": {
        "colab": {
          "base_uri": "https://localhost:8080/"
        },
        "id": "iBJVFGMO6UYK",
        "outputId": "1151792e-0230-43d1-c34c-2e8d235778c9"
      },
      "execution_count": 1,
      "outputs": [
        {
          "output_type": "stream",
          "name": "stdout",
          "text": [
            "Cloning into 'DS2D'...\n",
            "remote: Enumerating objects: 320, done.\u001b[K\n",
            "remote: Counting objects: 100% (320/320), done.\u001b[K\n",
            "remote: Compressing objects: 100% (261/261), done.\u001b[K\n",
            "remote: Total 320 (delta 54), reused 299 (delta 41), pack-reused 0 (from 0)\u001b[K\n",
            "Receiving objects: 100% (320/320), 4.07 MiB | 20.22 MiB/s, done.\n",
            "Resolving deltas: 100% (54/54), done.\n",
            "/content/DS2D\n"
          ]
        }
      ]
    },
    {
      "cell_type": "code",
      "source": [],
      "metadata": {
        "id": "9Sdiwcl86U4x"
      },
      "execution_count": null,
      "outputs": []
    }
  ]
}